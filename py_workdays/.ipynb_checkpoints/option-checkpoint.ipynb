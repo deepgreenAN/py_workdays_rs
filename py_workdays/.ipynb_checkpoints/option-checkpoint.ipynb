{
 "cells": [
  {
   "cell_type": "code",
   "execution_count": 1,
   "id": "9e808e87-286f-4981-a565-9e174a762f8f",
   "metadata": {},
   "outputs": [],
   "source": [
    "import py_workdays"
   ]
  },
  {
   "cell_type": "code",
   "execution_count": 2,
   "id": "793f0d45-99cf-4df8-b7b0-42783afea322",
   "metadata": {},
   "outputs": [
    {
     "data": {
      "text/plain": [
       "['PyWorkdaysError',\n",
       " '__all__',\n",
       " '__doc__',\n",
       " '__file__',\n",
       " '__loader__',\n",
       " '__name__',\n",
       " '__package__',\n",
       " '__spec__',\n",
       " 'add_range_holidays',\n",
       " 'add_workday_intraday_datetime_naive',\n",
       " 'check_workday',\n",
       " 'check_workday_intraday_naive',\n",
       " 'extract_intraday_bool_naive',\n",
       " 'extract_workdays_bool_naive',\n",
       " 'extract_workdays_intraday_bool_naive',\n",
       " 'get_holiday_weekdays',\n",
       " 'get_intraday_borders',\n",
       " 'get_near_workday',\n",
       " 'get_near_workday_intraday_naive',\n",
       " 'get_next_border_workday_intraday_naive',\n",
       " 'get_next_workday',\n",
       " 'get_previous_border_workday_intraday_naive',\n",
       " 'get_previous_workday',\n",
       " 'get_range_holidays',\n",
       " 'get_timedelta_workdays_intraday_naive',\n",
       " 'get_workdays',\n",
       " 'get_workdays_number',\n",
       " 'make_source_naikaku',\n",
       " 'request_holidays_naikaku',\n",
       " 'set_holidays_csvs',\n",
       " 'set_intraday_borders',\n",
       " 'set_one_holiday_weekday_set',\n",
       " 'set_range_holidays',\n",
       " 'sub_workday_intraday_datetime_naive']"
      ]
     },
     "execution_count": 2,
     "metadata": {},
     "output_type": "execute_result"
    }
   ],
   "source": [
    "dir(py_workdays)"
   ]
  },
  {
   "cell_type": "code",
   "execution_count": 6,
   "id": "573074ee-adc9-4117-9b18-fbbf009003bd",
   "metadata": {},
   "outputs": [],
   "source": [
    "from py_workdays import set_holidays_csvs, set_range_holidays, add_range_holidays, set_one_holiday_weekday_set, set_intraday_borders"
   ]
  },
  {
   "cell_type": "code",
   "execution_count": 4,
   "id": "c49a65c0-b74a-41fd-8954-58bbf1f347b0",
   "metadata": {},
   "outputs": [],
   "source": [
    "from py_strict_list import StructureStrictList, strict_list_property"
   ]
  },
  {
   "cell_type": "code",
   "execution_count": 7,
   "id": "f0b99776-a5ff-4fc5-ae00-2bc126063aff",
   "metadata": {},
   "outputs": [
    {
     "data": {
      "text/plain": [
       "'csvを読み込んで利用できる祝日の更新をする  \\nArgments\\n- path_str_vec: csvのパス\\n- start_year: 利用する開始年(その年の1月1日から)\\n- end_year: 利用する終了年(その年の12月31日まで)'"
      ]
     },
     "execution_count": 7,
     "metadata": {},
     "output_type": "execute_result"
    }
   ],
   "source": []
  },
  {
   "cell_type": "code",
   "execution_count": null,
   "id": "b7d9b921-9bcc-4142-9aee-e68c0b692251",
   "metadata": {},
   "outputs": [],
   "source": []
  }
 ],
 "metadata": {
  "kernelspec": {
   "display_name": "Python 3 (ipykernel)",
   "language": "python",
   "name": "python3"
  },
  "language_info": {
   "codemirror_mode": {
    "name": "ipython",
    "version": 3
   },
   "file_extension": ".py",
   "mimetype": "text/x-python",
   "name": "python",
   "nbconvert_exporter": "python",
   "pygments_lexer": "ipython3",
   "version": "3.9.6"
  }
 },
 "nbformat": 4,
 "nbformat_minor": 5
}
